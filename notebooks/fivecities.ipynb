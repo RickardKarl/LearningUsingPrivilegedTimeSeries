{
 "metadata": {
  "language_info": {
   "codemirror_mode": {
    "name": "ipython",
    "version": 3
   },
   "file_extension": ".py",
   "mimetype": "text/x-python",
   "name": "python",
   "nbconvert_exporter": "python",
   "pygments_lexer": "ipython3",
   "version": "3.8.8"
  },
  "orig_nbformat": 2,
  "kernelspec": {
   "name": "python388jvsc74a57bd0d2b84ef7c6d97f800e3c70c63b89323b1da358e02f30d19ff480b7d19187cc8a",
   "display_name": "Python 3.8.8 64-bit ('thesis': conda)"
  }
 },
 "nbformat": 4,
 "nbformat_minor": 2,
 "cells": [
  {
   "source": [
    "# Experiments with Five cities dataset\n",
    "Code found in src/fivecities/experiment.py, including experiments parameters"
   ],
   "cell_type": "markdown",
   "metadata": {}
  },
  {
   "cell_type": "code",
   "execution_count": null,
   "metadata": {},
   "outputs": [],
   "source": [
    "# Import packages and classes\n",
    "\n",
    "import sys \n",
    "import os\n",
    "sys.path.append('..')\n",
    "\n",
    "from tqdm import tqdm\n",
    "\n",
    "# Import packages\n",
    "from src.fivecities.experiment import run_experiment, plot_results_timehorizons, plot_results_PTS\n",
    "from src.fivecities.reader import FiveCities\n",
    "\n",
    "# Save images\n",
    "save = True"
   ]
  },
  {
   "source": [
    "# Run experiments with each city and time horizon, with various timesteps"
   ],
   "cell_type": "markdown",
   "metadata": {}
  },
  {
   "cell_type": "code",
   "execution_count": null,
   "metadata": {},
   "outputs": [],
   "source": [
    "\n",
    "# Decide which time horizons and what the timesteps should be per horizon\n",
    "seqlength_timestep = {\n",
    "    5 : [1,3],\n",
    "    11: [1,6],\n",
    "    23: [1,11]\n",
    "}\n",
    "\n",
    "\n",
    "# Run experiments for each city with different horizons\n",
    "results_dict = {}\n",
    "for city in tqdm(FiveCities.city_list):\n",
    "    tmp_dict = {}\n",
    "    for seqlength in seqlength_timestep:\n",
    "        res = run_experiment(city, seqlength, timestep_list=seqlength_timestep[seqlength])\n",
    "        tmp_dict[seqlength] = res\n",
    "    \n",
    "    results_dict[city] = tmp_dict"
   ]
  },
  {
   "source": [
    "## Plot for different time horizons "
   ],
   "cell_type": "markdown",
   "metadata": {}
  },
  {
   "cell_type": "code",
   "execution_count": null,
   "metadata": {},
   "outputs": [],
   "source": [
    "for city in tqdm(FiveCities.city_list):\n",
    "    for seqlength in seqlength_timestep:\n",
    "        plot_results_timehorizons(results_dict[city][seqlength], title=f'{city}_T{seqlength}', save=save)"
   ]
  },
  {
   "source": [
    "## Plot out the varying privileged time points"
   ],
   "cell_type": "markdown",
   "metadata": {}
  },
  {
   "cell_type": "code",
   "execution_count": null,
   "metadata": {},
   "outputs": [],
   "source": [
    "for city in tqdm(FiveCities.city_list):\n",
    "    for seqlength in seqlength_timestep:\n",
    "        plot_results_PTS(results_dict[city][seqlength], title=f'{city}_T{seqlength}', save=save)"
   ]
  },
  {
   "cell_type": "code",
   "execution_count": null,
   "metadata": {},
   "outputs": [],
   "source": []
  }
 ]
}