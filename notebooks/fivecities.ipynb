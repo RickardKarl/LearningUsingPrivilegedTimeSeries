{
 "cells": [
  {
   "cell_type": "markdown",
   "metadata": {},
   "source": [
    "# Experiments with Five cities dataset\n",
    "Code found in src/fivecities/experiment.py, including experiments parameters"
   ]
  },
  {
   "cell_type": "code",
   "execution_count": null,
   "metadata": {},
   "outputs": [],
   "source": [
    "# Import packages and classes\n",
    "\n",
    "import sys \n",
    "import os\n",
    "sys.path.append('..')\n",
    "\n",
    "from tqdm import tqdm\n",
    "\n",
    "# Import packages\n",
    "from src.fivecities.experiment import run_experiment, plot_results_timehorizons, plot_results_PTS\n",
    "from src.fivecities.reader import FiveCities\n",
    "\n",
    "# Save images\n",
    "save = True"
   ]
  },
  {
   "cell_type": "markdown",
   "metadata": {},
   "source": [
    "# Run experiments with each city and time horizon, with various timesteps"
   ]
  },
  {
   "cell_type": "code",
   "execution_count": null,
   "metadata": {
    "tags": []
   },
   "outputs": [],
   "source": [
    "\n",
    "# Decide which time horizons and what the timesteps should be per horizon\n",
    "seqlength_timestep = {\n",
    "    5 : [1,2],\n",
    "    11: [1,6],\n",
    "    23: [1,11]\n",
    "}\n",
    "\n",
    "\n",
    "# Run experiments for each city with different horizons\n",
    "results_dict = {}\n",
    "for city in tqdm(FiveCities.city_list):\n",
    "    tmp_dict = {}\n",
    "    for seqlength in seqlength_timestep:\n",
    "        res = run_experiment(city, seqlength, timestep_list=seqlength_timestep[seqlength])\n",
    "        tmp_dict[seqlength] = res\n",
    "    \n",
    "    results_dict[city] = tmp_dict"
   ]
  },
  {
   "cell_type": "code",
   "execution_count": null,
   "metadata": {},
   "outputs": [],
   "source": [
    "# save results\n",
    "import time \n",
    "import pickle \n",
    "\n",
    "def save_obj(obj, name ):\n",
    "    with open('../results/fivecities/'+ name + '.pkl', 'wb') as f:\n",
    "        pickle.dump(obj, f, pickle.HIGHEST_PROTOCOL)\n",
    "\n",
    "\n",
    "save_obj(results_dict, f'results_dict_{int(time.time())}')"
   ]
  },
  {
   "cell_type": "markdown",
   "metadata": {},
   "source": [
    "## Plot for different time horizons "
   ]
  },
  {
   "cell_type": "code",
   "execution_count": null,
   "metadata": {},
   "outputs": [],
   "source": [
    "for city in tqdm(FiveCities.city_list):\n",
    "    for seqlength in seqlength_timestep:\n",
    "        plot_results_timehorizons(results_dict[city][seqlength], title=f'{city}_T{seqlength}', save=save)\n"
   ]
  },
  {
   "cell_type": "markdown",
   "metadata": {},
   "source": [
    "## Plot out the varying privileged time points"
   ]
  },
  {
   "cell_type": "code",
   "execution_count": null,
   "metadata": {},
   "outputs": [],
   "source": [
    "for city in tqdm(FiveCities.city_list):\n",
    "    for seqlength in seqlength_timestep:\n",
    "        plot_results_PTS(results_dict[city][seqlength], include_only_model=None, title=f'{city}_T{seqlength}', save=save)"
   ]
  }
 ],
 "metadata": {
  "interpreter": {
   "hash": "842f830ed209cc0244a6ead9f085f45cda77f2c864033aae5c6ee32e0c0ebcf3"
  },
  "kernelspec": {
   "display_name": "Python 3.9.7 64-bit ('ML': conda)",
   "name": "python3"
  },
  "language_info": {
   "codemirror_mode": {
    "name": "ipython",
    "version": 3
   },
   "file_extension": ".py",
   "mimetype": "text/x-python",
   "name": "python",
   "nbconvert_exporter": "python",
   "pygments_lexer": "ipython3",
   "version": "3.9.7"
  }
 },
 "nbformat": 4,
 "nbformat_minor": 4
}
